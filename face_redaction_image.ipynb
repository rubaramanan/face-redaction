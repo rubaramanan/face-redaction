{
 "cells": [
  {
   "cell_type": "code",
   "execution_count": 1,
   "metadata": {},
   "outputs": [],
   "source": [
    "import cv2\n",
    "import numpy as np\n",
    "import ipywidgets\n",
    "from IPython.display import display\n",
    "import numpy as np\n",
    "import base64\n",
    "import time"
   ]
  },
  {
   "cell_type": "code",
   "execution_count": 2,
   "metadata": {},
   "outputs": [
    {
     "name": "stdout",
     "output_type": "stream",
     "text": [
      "4.8.0-dev\n"
     ]
    }
   ],
   "source": [
    "print(cv2.__version__)"
   ]
  },
  {
   "cell_type": "code",
   "execution_count": 3,
   "metadata": {},
   "outputs": [],
   "source": [
    "def get_faces(img, device='cpu'):\n",
    "    if device == 'cpu':\n",
    "        face_cascades = cv2.CascadeClassifier(cv2.data.haarcascades + \"haarcascade_frontalface_default.xml\")\n",
    "        return face_cascades.detectMultiScale(img, 1.3, 5)\n",
    "    elif device == 'gpu':\n",
    "        face_cascades = cv2.cuda_CascadeClassifier.create('./cascades_cuda/haarcascade_frontalface_alt.xml')\n",
    "        return face_cascades.detectMultiScale(img).download()[0]"
   ]
  },
  {
   "cell_type": "code",
   "execution_count": 4,
   "metadata": {},
   "outputs": [],
   "source": [
    "def blur_faces(faces, color_img, gray_img):\n",
    "    for (x, y, w, h) in faces:\n",
    "        cv2.rectangle(color_img,pt1=(x,y),pt2=(x+w,y+h),color=(255,0,0),thickness=2)\n",
    "        roi_gray = gray_img[y:y+h, x:x+w]\n",
    "        roi_color = color_img[y:y+h, x:x+w]\n",
    "        roi = cv2.GaussianBlur(roi_color, (23, 23), 30)\n",
    "\n",
    "        color_img[y:y+w, x:x+h] = roi\n",
    "    return color_img"
   ]
  },
  {
   "cell_type": "code",
   "execution_count": 5,
   "metadata": {},
   "outputs": [],
   "source": [
    "def face_reduction(color_img, gray_img, device='cpu'):\n",
    "    faces = get_faces(gray_img, device)\n",
    "    gray_img = gray_img.download() if device=='gpu' else gray_img\n",
    "    color_cpu_img = color_img.download() if device=='gpu' else color_img\n",
    "    blur_face = blur_faces(faces, color_cpu_img, gray_img)\n",
    "    return blur_face"
   ]
  },
  {
   "cell_type": "markdown",
   "metadata": {},
   "source": [
    "### Face Redaction with CPU"
   ]
  },
  {
   "cell_type": "code",
   "execution_count": 6,
   "metadata": {},
   "outputs": [
    {
     "data": {
      "application/vnd.jupyter.widget-view+json": {
       "model_id": "79d0e23a627d49ed9f1ae3f3c06ebc3c",
       "version_major": 2,
       "version_minor": 0
      },
      "text/plain": [
       "Image(value=b'\\xff\\xd8\\xff\\xe0\\x00\\x10JFIF\\x00\\x01\\x01\\x00\\x00\\x01\\x00\\x01\\x00\\x00\\xff\\xdb\\x00C\\x00\\x02\\x01\\x0…"
      ]
     },
     "metadata": {},
     "output_type": "display_data"
    },
    {
     "name": "stdout",
     "output_type": "stream",
     "text": [
      "Time taken for face recuction in CPU: 0.6690001487731934 sec\n",
      "CPU times: total: 1.19 s\n",
      "Wall time: 2.37 s\n"
     ]
    }
   ],
   "source": [
    "%%time\n",
    "c_widget = ipywidgets.Image(format='jpeg')\n",
    "\n",
    "img = cv2.imread('obama.jpg')\n",
    "gray = cv2.cvtColor(img, cv2.COLOR_BGR2GRAY)\n",
    "\n",
    "start_time = time.time()\n",
    "red_img = face_reduction(img, gray, device='cpu')\n",
    "end_time = time.time()\n",
    "time_taken = end_time - start_time\n",
    "\n",
    "c_widget.value = bytes(cv2.imencode('.jpg', red_img)[1])\n",
    "\n",
    "display(c_widget)\n",
    "\n",
    "print(f\"Time taken for face recuction in CPU: {time_taken} sec\")"
   ]
  },
  {
   "cell_type": "markdown",
   "metadata": {},
   "source": [
    "### Face Reduction with GPU"
   ]
  },
  {
   "cell_type": "code",
   "execution_count": 7,
   "metadata": {},
   "outputs": [
    {
     "data": {
      "application/vnd.jupyter.widget-view+json": {
       "model_id": "49eafc8849e34a3db95bbafd1ba1d7d9",
       "version_major": 2,
       "version_minor": 0
      },
      "text/plain": [
       "Image(value=b'\\xff\\xd8\\xff\\xe0\\x00\\x10JFIF\\x00\\x01\\x01\\x00\\x00\\x01\\x00\\x01\\x00\\x00\\xff\\xdb\\x00C\\x00\\x02\\x01\\x0…"
      ]
     },
     "metadata": {},
     "output_type": "display_data"
    },
    {
     "name": "stdout",
     "output_type": "stream",
     "text": [
      "Time taken for face recuction in GPU: 0.4270615577697754 sec\n",
      "CPU times: total: 1.64 s\n",
      "Wall time: 13.3 s\n"
     ]
    }
   ],
   "source": [
    "%%time\n",
    "rimage_widget = ipywidgets.Image(format='jpeg')\n",
    "\n",
    "img_gpu = cv2.cuda_GpuMat()\n",
    "\n",
    "img = cv2.imread('obama.jpg')\n",
    "\n",
    "img_gpu.upload(img)\n",
    "\n",
    "gray = cv2.cuda.cvtColor(img_gpu, cv2.COLOR_BGR2GRAY)\n",
    "\n",
    "start_time = time.time()\n",
    "red_face = face_reduction(img_gpu, gray, device='gpu')\n",
    "end_time = time.time()\n",
    "time_taken = end_time - start_time\n",
    "\n",
    "rimage_widget.value = bytes(cv2.imencode('.jpg', red_face)[1])\n",
    "\n",
    "display(rimage_widget)\n",
    "print(f\"Time taken for face recuction in GPU: {time_taken} sec\")\n"
   ]
  },
  {
   "cell_type": "code",
   "execution_count": 21,
   "metadata": {},
   "outputs": [],
   "source": [
    "ipywidgets.Widget.close_all()"
   ]
  }
 ],
 "metadata": {
  "kernelspec": {
   "display_name": "base",
   "language": "python",
   "name": "python3"
  },
  "language_info": {
   "codemirror_mode": {
    "name": "ipython",
    "version": 3
   },
   "file_extension": ".py",
   "mimetype": "text/x-python",
   "name": "python",
   "nbconvert_exporter": "python",
   "pygments_lexer": "ipython3",
   "version": "3.10.9"
  },
  "orig_nbformat": 4
 },
 "nbformat": 4,
 "nbformat_minor": 2
}

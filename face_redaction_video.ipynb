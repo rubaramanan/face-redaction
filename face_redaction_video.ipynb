{
 "cells": [
  {
   "cell_type": "code",
   "execution_count": 1,
   "metadata": {},
   "outputs": [],
   "source": [
    "import cv2\n",
    "import numpy as np\n",
    "import ipywidgets\n",
    "from IPython.display import display\n",
    "import numpy as np\n",
    "import base64\n",
    "import time"
   ]
  },
  {
   "cell_type": "code",
   "execution_count": 2,
   "metadata": {},
   "outputs": [
    {
     "name": "stdout",
     "output_type": "stream",
     "text": [
      "4.8.0-dev\n"
     ]
    }
   ],
   "source": [
    "print(cv2.__version__)"
   ]
  },
  {
   "cell_type": "code",
   "execution_count": 3,
   "metadata": {},
   "outputs": [],
   "source": [
    "def get_faces(img, device='cpu'):\n",
    "    if device == 'cpu':\n",
    "        face_cascades = cv2.CascadeClassifier(cv2.data.haarcascades + \"haarcascade_frontalface_default.xml\")\n",
    "        return face_cascades.detectMultiScale(img, 1.3, 5)\n",
    "    elif device == 'gpu':\n",
    "        face_cascades = cv2.cuda_CascadeClassifier.create('./cascades_cuda/haarcascade_frontalface_alt.xml')\n",
    "        faces = face_cascades.detectMultiScale(img).download()\n",
    "        if faces is None:\n",
    "            return []\n",
    "        return faces[0]"
   ]
  },
  {
   "cell_type": "code",
   "execution_count": 4,
   "metadata": {},
   "outputs": [],
   "source": [
    "def blur_faces(faces, color_img, gray_img):\n",
    "    for (x, y, w, h) in faces:\n",
    "        cv2.rectangle(color_img,pt1=(x,y),pt2=(x+w,y+h),color=(255,0,0),thickness=2)\n",
    "        roi_gray = gray_img[y:y+h, x:x+w]\n",
    "        roi_color = color_img[y:y+h, x:x+w]\n",
    "        roi = cv2.GaussianBlur(roi_color, (23, 23), 30)\n",
    "\n",
    "        color_img[y:y+w, x:x+h] = roi\n",
    "    return color_img"
   ]
  },
  {
   "cell_type": "code",
   "execution_count": 5,
   "metadata": {},
   "outputs": [],
   "source": [
    "def face_reduction(color_img, gray_img, device='cpu'):\n",
    "    faces = get_faces(gray_img, device)\n",
    "    \n",
    "    gray_img = gray_img.download() if device=='gpu' else gray_img\n",
    "    color_cpu_img = color_img.download() if device=='gpu' else color_img\n",
    "    blur_face = blur_faces(faces, color_cpu_img, gray_img)\n",
    "    return blur_face"
   ]
  },
  {
   "cell_type": "markdown",
   "metadata": {},
   "source": [
    "### Face Redaction with CPU"
   ]
  },
  {
   "cell_type": "code",
   "execution_count": 6,
   "metadata": {},
   "outputs": [
    {
     "data": {
      "application/vnd.jupyter.widget-view+json": {
       "model_id": "6956cef5bd2c4648bcc78576125a0081",
       "version_major": 2,
       "version_minor": 0
      },
      "text/plain": [
       "Image(value=b'', format='jpeg')"
      ]
     },
     "metadata": {},
     "output_type": "display_data"
    },
    {
     "name": "stdout",
     "output_type": "stream",
     "text": [
      "Can't receive frames...\n",
      "Time taken for face recuction in CPU: 147.63707184791565 sec\n",
      "CPU times: total: 4min 59s\n",
      "Wall time: 2min 41s\n"
     ]
    }
   ],
   "source": [
    "%%time\n",
    "c_widget = ipywidgets.Image(format='jpeg')\n",
    "display(c_widget)\n",
    "\n",
    "time_taken = []\n",
    "\n",
    "cap = cv2.VideoCapture('hamilton_clip.mp4')\n",
    "\n",
    "while True:\n",
    "    try:\n",
    "        ret, frame = cap.read()\n",
    "        if not ret:\n",
    "            print(f\"Can't receive frames...\")\n",
    "            break\n",
    "\n",
    "        gray = cv2.cvtColor(frame, cv2.COLOR_BGR2GRAY)\n",
    "        start_time = time.time()\n",
    "        frame = face_reduction(frame, gray, device='cpu')\n",
    "        end_time = time.time()\n",
    "        time_taken.append(end_time - start_time)\n",
    "\n",
    "        c_widget.value = bytes(cv2.imencode('.jpg', frame)[1])\n",
    "    \n",
    "    except Exception as e:\n",
    "        print(e)\n",
    "        break\n",
    "\n",
    "cap.release()\n",
    "print(f\"Time taken for face recuction in CPU: {sum(time_taken)} sec\")\n",
    "# cv2.destroyAllWindows()"
   ]
  },
  {
   "cell_type": "markdown",
   "metadata": {},
   "source": [
    "### Face Reduction with GPU"
   ]
  },
  {
   "cell_type": "code",
   "execution_count": 7,
   "metadata": {},
   "outputs": [
    {
     "data": {
      "application/vnd.jupyter.widget-view+json": {
       "model_id": "0f6a5d65ab70436ca695790c86cdfc94",
       "version_major": 2,
       "version_minor": 0
      },
      "text/plain": [
       "Image(value=b'', format='jpeg')"
      ]
     },
     "metadata": {},
     "output_type": "display_data"
    },
    {
     "name": "stdout",
     "output_type": "stream",
     "text": [
      "Can't retrive frame ...\n",
      "Time taken for face recuction in GPU: 280.1159393787384 sec\n",
      "CPU times: total: 4min 51s\n",
      "Wall time: 4min 56s\n"
     ]
    }
   ],
   "source": [
    "%%time\n",
    "rimage_widget = ipywidgets.Image(format='jpeg')\n",
    "\n",
    "display(rimage_widget)\n",
    "\n",
    "cap = cv2.VideoCapture('hamilton_clip.mp4')\n",
    "time_taken = []\n",
    "\n",
    "while True:\n",
    "    # try:\n",
    "        ret, frame = cap.read()\n",
    "\n",
    "        if not ret:\n",
    "            print(\"Can't retrive frame ...\")\n",
    "            break\n",
    "\n",
    "        img_gpu = cv2.cuda_GpuMat()\n",
    "        img_gpu.upload(frame)\n",
    "        gray = cv2.cuda.cvtColor(img_gpu, cv2.COLOR_BGR2GRAY)\n",
    "\n",
    "        start_time = time.time()\n",
    "        frame = face_reduction(img_gpu, gray, device='gpu')\n",
    "        end_time = time.time()\n",
    "        time_taken.append(end_time - start_time)\n",
    "        \n",
    "        rimage_widget.value = bytes(cv2.imencode('.jpg', frame)[1])\n",
    "    # except Exception as e:\n",
    "    #     print(e)\n",
    "    #     break\n",
    "\n",
    "cap.release()\n",
    "\n",
    "print(f\"Time taken for face recuction in GPU: {sum(time_taken)} sec\")\n",
    "# cv2.destroyAllWindows()\n"
   ]
  },
  {
   "cell_type": "code",
   "execution_count": 8,
   "metadata": {},
   "outputs": [],
   "source": [
    "ipywidgets.Widget.close_all()"
   ]
  }
 ],
 "metadata": {
  "kernelspec": {
   "display_name": "base",
   "language": "python",
   "name": "python3"
  },
  "language_info": {
   "codemirror_mode": {
    "name": "ipython",
    "version": 3
   },
   "file_extension": ".py",
   "mimetype": "text/x-python",
   "name": "python",
   "nbconvert_exporter": "python",
   "pygments_lexer": "ipython3",
   "version": "3.10.9"
  },
  "orig_nbformat": 4
 },
 "nbformat": 4,
 "nbformat_minor": 2
}
